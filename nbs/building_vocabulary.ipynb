{
 "cells": [
  {
   "cell_type": "code",
   "execution_count": 1,
   "id": "a3105031-bdd4-44a4-a459-41c8bd65cd0c",
   "metadata": {},
   "outputs": [
    {
     "ename": "ModuleNotFoundError",
     "evalue": "No module named 'gensim'",
     "output_type": "error",
     "traceback": [
      "\u001b[0;31m---------------------------------------------------------------------------\u001b[0m",
      "\u001b[0;31mModuleNotFoundError\u001b[0m                       Traceback (most recent call last)",
      "Input \u001b[0;32mIn [1]\u001b[0m, in \u001b[0;36m<cell line: 1>\u001b[0;34m()\u001b[0m\n\u001b[0;32m----> 1\u001b[0m \u001b[38;5;28;01mimport\u001b[39;00m \u001b[38;5;21;01mgensim\u001b[39;00m\n\u001b[1;32m      2\u001b[0m \u001b[38;5;28;01mfrom\u001b[39;00m \u001b[38;5;21;01mgensim\u001b[39;00m \u001b[38;5;28;01mimport\u001b[39;00m corpora\n",
      "\u001b[0;31mModuleNotFoundError\u001b[0m: No module named 'gensim'"
     ]
    }
   ],
   "source": [
    "import gensim\n",
    "from gensim import corpora"
   ]
  },
  {
   "cell_type": "code",
   "execution_count": 2,
   "id": "e1ef4a70-d4c2-453b-9722-f648f5b86b19",
   "metadata": {},
   "outputs": [
    {
     "name": "stdout",
     "output_type": "stream",
     "text": [
      "Collecting gensim\n",
      "  Downloading gensim-4.2.0.tar.gz (23.2 MB)\n",
      "\u001b[2K     \u001b[90m━━━━━━━━━━━━━━━━━━━━━━━━━━━━━━━━━━━━━━━\u001b[0m \u001b[32m23.2/23.2 MB\u001b[0m \u001b[31m203.4 kB/s\u001b[0m eta \u001b[36m0:00:00\u001b[0m00:01\u001b[0m00:03\u001b[0m\n",
      "\u001b[?25h  Preparing metadata (setup.py) ... \u001b[?25ldone\n",
      "\u001b[?25hRequirement already satisfied: numpy>=1.17.0 in /Users/harish3110/mambaforge/lib/python3.9/site-packages (from gensim) (1.23.0rc2)\n",
      "Collecting scipy>=0.18.1\n",
      "  Downloading scipy-1.9.1-cp39-cp39-macosx_12_0_arm64.whl (29.9 MB)\n",
      "\u001b[2K     \u001b[90m━━━━━━━━━━━━━━━━━━━━━━━━━━━━━━━━━━━━━━━\u001b[0m \u001b[32m29.9/29.9 MB\u001b[0m \u001b[31m219.4 kB/s\u001b[0m eta \u001b[36m0:00:00\u001b[0m00:01\u001b[0m00:04\u001b[0m\n",
      "\u001b[?25hRequirement already satisfied: smart_open>=1.8.1 in /Users/harish3110/mambaforge/lib/python3.9/site-packages (from gensim) (5.2.1)\n",
      "Building wheels for collected packages: gensim\n",
      "  Building wheel for gensim (setup.py) ... \u001b[?25ldone\n",
      "\u001b[?25h  Created wheel for gensim: filename=gensim-4.2.0-cp39-cp39-macosx_11_0_arm64.whl size=23932552 sha256=cd2a4ad5837da7374b4b6bd9e84233c65d18581d6f4422842c336b2765126f3a\n",
      "  Stored in directory: /Users/harish3110/Library/Caches/pip/wheels/ed/5e/79/d2997e72ba8900a820dd5870a3566779e52ee8279f71b4c799\n",
      "Successfully built gensim\n",
      "Installing collected packages: scipy, gensim\n",
      "Successfully installed gensim-4.2.0 scipy-1.9.1\n"
     ]
    }
   ],
   "source": [
    "!pip install gensim"
   ]
  },
  {
   "cell_type": "code",
   "execution_count": null,
   "id": "f5ec03d7-734b-439d-bbe0-26e1d6f7248d",
   "metadata": {},
   "outputs": [],
   "source": [
    "#creating a sample corpus for demonstration purpose\n",
    "txt_corpus = []"
   ]
  },
  {
   "cell_type": "code",
   "execution_count": null,
   "id": "3aba4532-f38f-4b17-814e-3d2319505b7a",
   "metadata": {},
   "outputs": [],
   "source": [
    "# Creating a set of frequent words\n",
    "stoplist = set('for a of the and to in on of to are at'.split(' '))"
   ]
  },
  {
   "cell_type": "code",
   "execution_count": null,
   "id": "4879fa2a-15cf-4c05-b52e-cd1b52315dde",
   "metadata": {},
   "outputs": [],
   "source": [
    "# Lowercasing each document, using white space as delimiter and filtering out the stopwords\n",
    "processed_text = [[word for word in document.lower().split() if word not in stoplist]for document in txt_corpus]"
   ]
  },
  {
   "cell_type": "code",
   "execution_count": null,
   "id": "09f06697-263d-457f-9cdb-ba4825184840",
   "metadata": {},
   "outputs": [],
   "source": [
    "#creating a dictionary\n",
    "dictionary = corpora.Dictionary(processed_text)"
   ]
  },
  {
   "cell_type": "code",
   "execution_count": null,
   "id": "f1d071d4-782b-4e0c-9652-a1aa71a51a32",
   "metadata": {},
   "outputs": [],
   "source": [
    "#displaying the dictionary\n",
    "print(dictionary)"
   ]
  }
 ],
 "metadata": {
  "kernelspec": {
   "display_name": "Python 3 (ipykernel)",
   "language": "python",
   "name": "python3"
  },
  "language_info": {
   "codemirror_mode": {
    "name": "ipython",
    "version": 3
   },
   "file_extension": ".py",
   "mimetype": "text/x-python",
   "name": "python",
   "nbconvert_exporter": "python",
   "pygments_lexer": "ipython3",
   "version": "3.9.13"
  }
 },
 "nbformat": 4,
 "nbformat_minor": 5
}
